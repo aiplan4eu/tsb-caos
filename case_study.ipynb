{
 "cells": [
  {
   "attachments": {},
   "cell_type": "markdown",
   "metadata": {},
   "source": [
    "## Introduction\n",
    "TODO: Write some information for the problem definition + the data input and the desired output\n",
    "Also include some basic information for the tool and how it works\n"
   ]
  },
  {
   "attachments": {},
   "cell_type": "markdown",
   "metadata": {},
   "source": [
    "## Case Study\n"
   ]
  },
  {
   "attachments": {},
   "cell_type": "markdown",
   "metadata": {},
   "source": [
    "### Load Data Input"
   ]
  },
  {
   "cell_type": "code",
   "execution_count": 1,
   "metadata": {},
   "outputs": [],
   "source": [
    "from problem import CAOSProblem\n",
    "import json\n",
    "\n",
    "#Load Data\n",
    "f = open(\"test_instance.json\")\n",
    "data = json.loads(f.read())\n",
    "f.close()\n"
   ]
  },
  {
   "attachments": {},
   "cell_type": "markdown",
   "metadata": {},
   "source": [
    "### Create problem object and load data"
   ]
  },
  {
   "cell_type": "code",
   "execution_count": 2,
   "metadata": {},
   "outputs": [],
   "source": [
    "p = CAOSProblem()\n",
    "p.LoadInstance(data)"
   ]
  },
  {
   "attachments": {},
   "cell_type": "markdown",
   "metadata": {},
   "source": [
    "### Report the problem"
   ]
  },
  {
   "cell_type": "code",
   "execution_count": 3,
   "metadata": {},
   "outputs": [
    {
     "name": "stdout",
     "output_type": "stream",
     "text": [
      "#######################\n",
      "### Instance Statistics\n",
      "### Planning Horizon 5\n",
      "### Total Contracts: 6\n",
      "### Total CounterParties 4\n",
      "#######################\n",
      "### Inbound Contracts:\n",
      "Period:  0  Client:  Amazon Amount:  1000\n",
      "Period:  3  Client:  Tesla Amount:  2000\n",
      "Period:  0  Client:  Google Amount:  3500\n",
      "Outbound Contracts\n",
      "Period:  0  Client:  Facebook Amount:  1000\n",
      "Period:  1  Client:  Facebook Amount:  1000\n",
      "Period:  2  Client:  Facebook Amount:  1500\n",
      "#######################\n"
     ]
    }
   ],
   "source": [
    "p.Report()"
   ]
  },
  {
   "attachments": {},
   "cell_type": "markdown",
   "metadata": {},
   "source": [
    "### Solve"
   ]
  },
  {
   "cell_type": "code",
   "execution_count": 4,
   "metadata": {},
   "outputs": [
    {
     "name": "stdout",
     "output_type": "stream",
     "text": [
      "Solving  2160 using 4 threads\n"
     ]
    },
    {
     "name": "stderr",
     "output_type": "stream",
     "text": [
      "d:\\Projects\\Consulting\\AiPlan4EU\\Code\\lib\\site-packages\\unified_planning-0.4.2.458.dev1-py3.9.egg\\unified_planning\\io\\pddl_writer.py:257: UserWarning: The PDDL printer cannot exactly represent the real constant '1080863910568919/36028797018963968'\n",
      "  warn(\n"
     ]
    },
    {
     "name": "stdout",
     "output_type": "stream",
     "text": [
      "Threads Completed\n"
     ]
    },
    {
     "ename": "KeyError",
     "evalue": "0",
     "output_type": "error",
     "traceback": [
      "\u001b[1;31m---------------------------------------------------------------------------\u001b[0m",
      "\u001b[1;31mKeyError\u001b[0m                                  Traceback (most recent call last)",
      "Cell \u001b[1;32mIn[4], line 1\u001b[0m\n\u001b[1;32m----> 1\u001b[0m p\u001b[39m.\u001b[39;49mSolve()\n",
      "File \u001b[1;32md:\\Projects\\Consulting\\AiPlan4EU\\Code\\problem.py:153\u001b[0m, in \u001b[0;36mSolve\u001b[1;34m(self)\u001b[0m\n\u001b[0;32m    150\u001b[0m \u001b[39mdef\u001b[39;00m \u001b[39mSolve\u001b[39m(\u001b[39mself\u001b[39m):\n\u001b[0;32m    151\u001b[0m     \u001b[39m#Generate Scenarios\u001b[39;00m\n\u001b[0;32m    152\u001b[0m     \u001b[39mself\u001b[39m\u001b[39m.\u001b[39mGenerateScenarios()\n\u001b[1;32m--> 153\u001b[0m     \u001b[39mself\u001b[39m\u001b[39m.\u001b[39mSolveScenarios()\n\u001b[0;32m    154\u001b[0m     \u001b[39mself\u001b[39m\u001b[39m.\u001b[39mPostProcess()\n",
      "File \u001b[1;32md:\\Projects\\Consulting\\AiPlan4EU\\Code\\problem.py:129\u001b[0m, in \u001b[0;36mPostProcess\u001b[1;34m(self)\u001b[0m\n\u001b[0;32m    127\u001b[0m \u001b[39mdef\u001b[39;00m \u001b[39mPostProcess\u001b[39m(\u001b[39mself\u001b[39m):\n\u001b[0;32m    128\u001b[0m     response \u001b[39m=\u001b[39m {}\n\u001b[1;32m--> 129\u001b[0m     \u001b[39mfor\u001b[39;00m client_name \u001b[39min\u001b[39;00m \u001b[39mself\u001b[39m\u001b[39m.\u001b[39mscenarios:\n\u001b[0;32m    130\u001b[0m         res \u001b[39m=\u001b[39m PlanEvaluator\u001b[39m.\u001b[39mEvaluateClient(\u001b[39mself\u001b[39m\u001b[39m.\u001b[39mclientMap[client_name], \u001b[39mself\u001b[39m)\n\u001b[0;32m    131\u001b[0m         response[client_name] \u001b[39m=\u001b[39m res\n",
      "\u001b[1;31mKeyError\u001b[0m: 0"
     ]
    }
   ],
   "source": [
    "p.Solve()"
   ]
  }
 ],
 "metadata": {
  "kernelspec": {
   "display_name": "Code",
   "language": "python",
   "name": "python3"
  },
  "language_info": {
   "codemirror_mode": {
    "name": "ipython",
    "version": 3
   },
   "file_extension": ".py",
   "mimetype": "text/x-python",
   "name": "python",
   "nbconvert_exporter": "python",
   "pygments_lexer": "ipython3",
   "version": "3.9.13"
  },
  "orig_nbformat": 4
 },
 "nbformat": 4,
 "nbformat_minor": 2
}
